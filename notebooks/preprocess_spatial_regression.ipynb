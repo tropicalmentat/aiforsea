{
 "cells": [
  {
   "cell_type": "markdown",
   "metadata": {},
   "source": [
    "## Preprocess and explore datasets"
   ]
  },
  {
   "cell_type": "code",
   "execution_count": 1,
   "metadata": {},
   "outputs": [],
   "source": [
    "import pandas as pd\n",
    "import folium as fol\n",
    "import geohash2 as gh\n",
    "import seaborn as sns\n",
    "import geopandas as gpd\n",
    "from folium import plugins\n",
    "import matplotlib.pyplot as plt\n",
    "from shapely.geometry import Point\n",
    "%matplotlib inline"
   ]
  },
  {
   "cell_type": "code",
   "execution_count": 2,
   "metadata": {},
   "outputs": [],
   "source": [
    "ds_path = r'C:\\Users\\jose.luigi.s.torres\\Desktop\\aiforsea\\traffic_management\\data\\training.csv'\n",
    "\n",
    "df = pd.read_csv(ds_path)"
   ]
  },
  {
   "cell_type": "code",
   "execution_count": 3,
   "metadata": {},
   "outputs": [],
   "source": [
    "######### TEST ON SUBSET FIRST #########\n",
    "subset_test = pd.DataFrame(df.loc[:100,])\n",
    "decoded = subset_test.geohash6.apply(lambda x: gh.decode_exactly(x))\n",
    "subset_test['lat'] = decoded.apply(lambda x: x[0])\n",
    "subset_test['long'] = decoded.apply(lambda x: x[1])\n",
    "\n",
    "subset_test['hour'] = subset_test.timestamp.str.split(':').str[0]\n",
    "subset_test['min'] = subset_test.timestamp.str.split(':').str[1]\n",
    "\n",
    "geom_test = [Point(xy) for xy in zip(subset_test.lat.astype('float'),subset_test.long.astype('float'))]\n",
    "gdf_test = gpd.GeoDataFrame(subset_test,geometry=geom_test)\n",
    "\n",
    "subset_test.drop(['geohash6'],axis=1,inplace=True)"
   ]
  },
  {
   "cell_type": "code",
   "execution_count": 4,
   "metadata": {},
   "outputs": [],
   "source": [
    "# preprocess coordinates\n",
    "decoded = df.geohash6.apply(lambda x: gh.decode_exactly(x))\n",
    "df['lat'] = decoded.apply(lambda x: x[0])\n",
    "df['long'] = decoded.apply(lambda x: x[1])\n",
    "\n",
    "# convert to geodataframe\n",
    "geom = [Point(xy) for xy in zip(df.lat.astype('float'),df.long.astype('float'))]\n",
    "gdf = gpd.GeoDataFrame(df,geometry=geom)"
   ]
  },
  {
   "cell_type": "code",
   "execution_count": 5,
   "metadata": {},
   "outputs": [],
   "source": [
    "gdf['hour'] = gdf.timestamp.str.split(':').str[0]\n",
    "gdf['min'] = gdf.timestamp.str.split(':').str[1]\n",
    "\n",
    "gdf['hour'] = gdf['hour'].astype('int')\n",
    "gdf['min'] = gdf['min'].astype('int')\n",
    "\n",
    "\n",
    "gdf.drop(['geohash6',],axis=1,inplace=True)"
   ]
  },
  {
   "cell_type": "code",
   "execution_count": 6,
   "metadata": {
    "scrolled": false
   },
   "outputs": [
    {
     "name": "stderr",
     "output_type": "stream",
     "text": [
      "C:\\Users\\jose.luigi.s.torres\\.conda\\envs\\aiforsea\\lib\\site-packages\\pysal\\__init__.py:65: VisibleDeprecationWarning: PySAL's API will be changed on 2018-12-31. The last release made with this API is version 1.14.4. A preview of the next API version is provided in the `pysalnext` package. The API changes and a guide on how to change imports is provided at https://migrating.pysal.org\n",
      "  ), VisibleDeprecationWarning)\n"
     ]
    },
    {
     "data": {
      "text/plain": [
       "<matplotlib.axes._subplots.AxesSubplot at 0x21ba4328940>"
      ]
     },
     "execution_count": 6,
     "metadata": {},
     "output_type": "execute_result"
    },
    {
     "data": {
      "image/png": "[encoded data removed]",
      "text/plain": [
       "<Figure size 432x288 with 1 Axes>"
      ]
     },
     "metadata": {
      "needs_background": "light"
     },
     "output_type": "display_data"
    }
   ],
   "source": [
    "import pysal as ps\n",
    "\n",
    "# select 1 snapshot in day 1\n",
    "snapshot = gdf.query(\"day==1&timestamp=='10:15'\")\n",
    "snapshot.plot(markersize=1)"
   ]
  },
  {
   "cell_type": "code",
   "execution_count": 13,
   "metadata": {},
   "outputs": [],
   "source": [
    "w = ps.weights.Distance.KNN.from_dataframe(snapshot,k=3,geom_col=\"geometry\")"
   ]
  },
  {
   "cell_type": "code",
   "execution_count": 15,
   "metadata": {},
   "outputs": [
    {
     "data": {
      "text/plain": [
       "<pysal.weights.weights.W at 0x21ba5924fd0>"
      ]
     },
     "execution_count": 15,
     "metadata": {},
     "output_type": "execute_result"
    }
   ],
   "source": [
    "ps.higher_order(w,2)"
   ]
  },
  {
   "cell_type": "code",
   "execution_count": 8,
   "metadata": {
    "scrolled": false
   },
   "outputs": [],
   "source": [
    "splag = ps.weights.lag_spatial(w,snapshot.demand.values)"
   ]
  },
  {
   "cell_type": "code",
   "execution_count": 10,
   "metadata": {},
   "outputs": [
    {
     "data": {
      "text/plain": [
       "(863,)"
      ]
     },
     "execution_count": 10,
     "metadata": {},
     "output_type": "execute_result"
    }
   ],
   "source": [
    "splag.shape"
   ]
  }
 ],
 "metadata": {
  "kernelspec": {
   "display_name": "Python 3",
   "language": "python",
   "name": "python3"
  },
  "language_info": {
   "codemirror_mode": {
    "name": "ipython",
    "version": 3
   },
   "file_extension": ".py",
   "mimetype": "text/x-python",
   "name": "python",
   "nbconvert_exporter": "python",
   "pygments_lexer": "ipython3",
   "version": "3.7.3"
  }
 },
 "nbformat": 4,
 "nbformat_minor": 2
}
