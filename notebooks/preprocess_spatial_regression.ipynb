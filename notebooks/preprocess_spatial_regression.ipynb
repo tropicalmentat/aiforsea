{
 "cells": [
  {
   "cell_type": "markdown",
   "metadata": {},
   "source": [
    "## Preprocess and explore datasets"
   ]
  },
  {
   "cell_type": "markdown",
   "metadata": {},
   "source": [
    "## TODOs\n",
    "\n",
    "- Try fb prophet for time series - only\n",
    "- Explore spatial econometric methods\n",
    "- Slice according to percentiles/quartiles to find which can give best results"
   ]
  },
  {
   "cell_type": "code",
   "execution_count": 1,
   "metadata": {},
   "outputs": [],
   "source": [
    "import pandas as pd\n",
    "import folium as fol\n",
    "import geohash2 as gh\n",
    "import seaborn as sns\n",
    "import geopandas as gpd\n",
    "from folium import plugins\n",
    "import matplotlib.pyplot as plt\n",
    "from shapely.geometry import Point\n",
    "%matplotlib inline"
   ]
  },
  {
   "cell_type": "code",
   "execution_count": 2,
   "metadata": {},
   "outputs": [],
   "source": [
    "ds_path = r'C:\\Users\\jose.luigi.s.torres\\Desktop\\aiforsea\\traffic_management\\data\\training.csv'\n",
    "\n",
    "df = pd.read_csv(ds_path)"
   ]
  },
  {
   "cell_type": "code",
   "execution_count": 3,
   "metadata": {},
   "outputs": [],
   "source": [
    "######### TEST ON SUBSET FIRST #########\n",
    "subset_test = pd.DataFrame(df.loc[:100,])\n",
    "decoded = subset_test.geohash6.apply(lambda x: gh.decode_exactly(x))\n",
    "subset_test['lat'] = decoded.apply(lambda x: x[0])\n",
    "subset_test['long'] = decoded.apply(lambda x: x[1])\n",
    "\n",
    "subset_test['hour'] = subset_test.timestamp.str.split(':').str[0]\n",
    "subset_test['min'] = subset_test.timestamp.str.split(':').str[1]\n",
    "\n",
    "geom_test = [Point(xy) for xy in zip(subset_test.lat.astype('float'),subset_test.long.astype('float'))]\n",
    "gdf_test = gpd.GeoDataFrame(subset_test,geometry=geom_test)\n",
    "\n",
    "subset_test.drop(['geohash6'],axis=1,inplace=True)"
   ]
  },
  {
   "cell_type": "code",
   "execution_count": 4,
   "metadata": {},
   "outputs": [],
   "source": [
    "# preprocess coordinates\n",
    "decoded = df.geohash6.apply(lambda x: gh.decode_exactly(x))\n",
    "df['lat'] = decoded.apply(lambda x: x[0])\n",
    "df['long'] = decoded.apply(lambda x: x[1])\n",
    "\n",
    "# convert to geodataframe\n",
    "geom = [Point(xy) for xy in zip(df.lat.astype('float'),df.long.astype('float'))]\n",
    "gdf = gpd.GeoDataFrame(df,geometry=geom)"
   ]
  },
  {
   "cell_type": "code",
   "execution_count": 5,
   "metadata": {},
   "outputs": [],
   "source": [
    "gdf['hour'] = gdf.timestamp.str.split(':').str[0]\n",
    "gdf['min'] = gdf.timestamp.str.split(':').str[1]\n",
    "\n",
    "gdf['hour'] = gdf['hour'].astype('int')\n",
    "gdf['min'] = gdf['min'].astype('int')\n",
    "\n",
    "\n",
    "gdf.drop(['geohash6',],axis=1,inplace=True)"
   ]
  },
  {
   "cell_type": "code",
   "execution_count": 35,
   "metadata": {
    "scrolled": false
   },
   "outputs": [
    {
     "data": {
      "text/plain": [
       "<matplotlib.axes._subplots.AxesSubplot at 0x1633a62c860>"
      ]
     },
     "execution_count": 35,
     "metadata": {},
     "output_type": "execute_result"
    },
    {
     "data": {
      "image/png": "[encoded data removed]",
      "text/plain": [
       "<Figure size 432x288 with 1 Axes>"
      ]
     },
     "metadata": {
      "needs_background": "light"
     },
     "output_type": "display_data"
    }
   ],
   "source": [
    "import pysal as ps\n",
    "\n",
    "# select 1 snapshot in day 1\n",
    "snapshot = gdf.query(\"day==1&timestamp=='10:15'\")\n",
    "snapshot.plot(markersize=1)"
   ]
  },
  {
   "cell_type": "code",
   "execution_count": 74,
   "metadata": {},
   "outputs": [],
   "source": [
    "w = ps.weights.Distance.KNN.from_dataframe(snapshot,geom_col=\"geometry\")"
   ]
  },
  {
   "cell_type": "code",
   "execution_count": 80,
   "metadata": {
    "scrolled": false
   },
   "outputs": [
    {
     "data": {
      "text/plain": [
       "array([0.20061872, 0.2920763 , 0.2410276 , 0.33856057, 0.51598695,\n",
       "       2.        , 0.06119589, 0.0746551 , 0.43913474, 0.13443976,\n",
       "       0.11924239, 0.04309167, 0.40835293, 0.19770101, 0.17826706,\n",
       "       0.11997895, 0.67667683, 0.41136769, 0.01990487, 0.0183132 ,\n",
       "       0.26983823, 0.92598253, 0.08068156, 0.24561554, 0.09270519,\n",
       "       1.93985003, 0.452287  , 0.09571443, 0.34018537, 0.14288198,\n",
       "       0.04248692, 0.11056388, 0.05659439, 0.19088894, 0.52392633,\n",
       "       0.07389918, 0.14480871, 0.68104731, 0.09406865, 0.04338596,\n",
       "       0.05336613, 0.09957095, 0.83507933, 0.94190292, 0.27982247,\n",
       "       0.13662758, 0.14383802, 0.37561857, 0.05057324, 0.03405097,\n",
       "       0.24975322, 1.17194943, 0.30522841, 0.01875176, 0.16142244,\n",
       "       0.06241208, 0.26172277, 0.1603607 , 0.11628013, 0.45388551,\n",
       "       0.0995904 , 0.30030378, 0.19857088, 0.093818  , 0.21785318,\n",
       "       0.18424217, 0.01792943, 0.49954178, 0.05045168, 0.07217689,\n",
       "       0.19185825, 0.28921339, 0.12700737, 0.34428241, 0.17413641,\n",
       "       0.2039747 , 0.86467268, 0.46698103, 0.22371607, 0.7710061 ,\n",
       "       1.33622139, 0.29946274, 0.07504394, 0.0512156 , 0.03269913,\n",
       "       0.19086104, 0.12564779, 1.40033028, 0.19354303, 0.1728976 ,\n",
       "       0.27497791, 0.25221814, 0.34964709, 0.01518328, 0.01225933,\n",
       "       0.16940826, 0.07637379, 0.64695834, 0.24941328, 0.00912153,\n",
       "       0.03711351, 0.12845573, 0.14228455, 0.12632842, 0.06842702,\n",
       "       0.14059828, 0.11542064, 0.13581697, 0.48360001, 0.18046891,\n",
       "       0.08051456, 0.30769182, 0.04141362, 0.08481683, 0.14522166,\n",
       "       0.0044834 , 0.1984387 , 0.05024263, 0.38718411, 0.33519718,\n",
       "       0.04493987, 0.34298838, 0.10244741, 0.12179119, 0.07196448,\n",
       "       0.173538  , 0.10971789, 0.19280639, 0.08605674, 0.32806033,\n",
       "       0.1785615 , 0.07542374, 0.07638555, 0.0611195 , 0.03530613,\n",
       "       0.25701214, 0.07364346, 0.12219119, 0.05727415, 0.3028382 ,\n",
       "       0.07002846, 0.20172075, 0.40435001, 0.04305217, 0.30637452,\n",
       "       0.093818  , 0.14522166, 0.05677097, 0.23513027, 0.14716306,\n",
       "       0.3672146 , 0.31246469, 0.11505574, 0.1924003 , 0.10357911,\n",
       "       0.37399982, 0.24153296, 0.23379069, 0.08465027, 0.04338596,\n",
       "       0.08314393, 0.0958667 , 1.16670432, 0.03813647, 0.15179872,\n",
       "       0.3334061 , 0.02017387, 0.02000271, 0.21133881, 0.0049668 ,\n",
       "       1.10588689, 0.51297465, 0.02245137, 0.22218844, 1.06787315,\n",
       "       0.15368376, 0.86852111, 0.12621726, 0.39740179, 0.12469298,\n",
       "       0.02538859, 0.10274698, 1.2142295 , 0.17017808, 0.27817296,\n",
       "       0.20928805, 0.01137979, 0.09482614, 0.03733949, 0.11595386,\n",
       "       0.29648185, 0.24441131, 0.16256672, 0.12106667, 0.02944736,\n",
       "       0.09708265, 0.26456265, 0.00863773, 0.13948609, 0.35203948,\n",
       "       0.02540433, 0.40715974, 0.02109921, 0.01732064, 0.26843291,\n",
       "       0.77555184, 0.03647294, 0.60633073, 0.16883514, 0.10149883,\n",
       "       0.49950697, 0.7640824 , 0.023392  , 0.11738398, 0.01278707,\n",
       "       0.92780311, 0.14225208, 0.01399523, 0.03096442, 0.2679373 ,\n",
       "       0.243152  , 0.03644889, 0.37310232, 0.09963982, 0.03499049,\n",
       "       0.02571579, 0.19782697, 0.56016636, 0.0359546 , 0.46541141,\n",
       "       0.42656984, 0.27723504, 0.01354224, 0.23898139, 0.24315625,\n",
       "       0.03950809, 0.12632842, 0.14196134, 0.40427905, 0.19246355,\n",
       "       0.62260616, 0.56122687, 0.03623691, 1.04601369, 0.19792391,\n",
       "       0.05591039, 0.0498539 , 0.01714832, 0.08036405, 0.31989522,\n",
       "       0.20246766, 0.16825428, 0.06334585, 0.12235815, 0.22525973,\n",
       "       0.23534732, 1.02172793, 0.10834761, 0.33656214, 0.05791002,\n",
       "       0.0626492 , 0.00787721, 0.1816284 , 0.17379308, 0.29467531,\n",
       "       0.13231919, 0.10501453, 0.01284759, 0.05994496, 0.03923018,\n",
       "       0.09763916, 0.95494681, 0.41598653, 0.07458563, 0.30042079,\n",
       "       0.16683571, 0.02113196, 0.08021133, 0.16725989, 0.19768563,\n",
       "       0.03817742, 1.14605953, 0.37559757, 0.26534782, 0.0358994 ,\n",
       "       0.09034503, 0.082384  , 0.19347741, 0.08189025, 0.29060621,\n",
       "       1.07771242, 0.05020401, 0.27644265, 0.07576527, 0.07877343,\n",
       "       0.00487364, 0.21510058, 0.28532025, 0.04283385, 0.14086291,\n",
       "       0.11082921, 0.24716648, 0.50583179, 0.19636813, 0.1724088 ,\n",
       "       0.15338498, 0.58385556, 0.39536618, 0.10595802, 0.03556398,\n",
       "       0.27393613, 0.12443253, 0.082384  , 0.18227256, 0.09338001,\n",
       "       0.03082657, 0.05759712, 0.05122806, 0.66813578, 0.13813848,\n",
       "       0.03059533, 0.15615244, 0.15561689, 0.18651695, 0.10983646,\n",
       "       0.03509796, 1.55414686, 0.02095861, 0.17337918, 0.01739758,\n",
       "       0.05318773, 0.08528559, 0.30284531, 0.14705944, 0.35645063,\n",
       "       0.0170496 , 0.04209206, 0.01816903, 0.21232211, 0.11318348,\n",
       "       0.18328927, 0.18123604, 0.09690673, 0.14709616, 0.08878214,\n",
       "       0.28319137, 0.16480606, 0.13873122, 0.21456772, 0.12908177,\n",
       "       0.72300345, 0.03934798, 0.18350323, 0.06324722, 0.08874026,\n",
       "       0.0316041 , 0.46578231, 0.0359546 , 0.10086062, 0.19216967,\n",
       "       0.19829942, 0.08048051, 0.06706299, 0.10570634, 0.23361924,\n",
       "       0.18127092, 0.08476326, 2.        , 0.12745566, 0.48551958,\n",
       "       0.02264069, 0.12970954, 0.26898681, 0.04783585, 0.01016133,\n",
       "       0.07472856, 0.08426776, 0.24200262, 0.31850172, 0.23995286,\n",
       "       0.16036686, 0.07706081, 0.07160993, 0.25396221, 0.06425354,\n",
       "       0.11598781, 0.16480426, 0.21684445, 0.07390307, 0.44483226,\n",
       "       0.13167758, 0.30040911, 0.37305753, 0.4161358 , 0.26554443,\n",
       "       0.2627457 , 0.41003784, 0.09825569, 0.23135573, 0.03211936,\n",
       "       0.07494875, 0.48989889, 0.37052922, 0.1271483 , 1.18900381,\n",
       "       0.06039222, 0.17291867, 0.01552748, 0.1633719 , 0.55175049,\n",
       "       0.05637971, 0.11009928, 0.08414466, 0.29826143, 0.33444976,\n",
       "       0.11991099, 0.0546211 , 0.21933094, 0.19603976, 0.0699646 ,\n",
       "       1.03897493, 0.40537088, 1.03138604, 0.02894474, 0.04932006,\n",
       "       0.17017727, 0.58569847, 0.32440867, 0.06988006, 0.13728073,\n",
       "       0.55545647, 0.04618119, 0.21923678, 0.24683111, 0.05297763,\n",
       "       0.18727431, 0.02000922, 0.09418502, 0.42517294, 0.02763421,\n",
       "       0.0856361 , 0.03312665, 0.01485291, 0.02560748, 0.30352605,\n",
       "       0.35981514, 0.05634212, 0.18654661, 0.03350875, 0.01816903,\n",
       "       1.06893493, 0.03916219, 0.0374016 , 0.32476145, 0.39352265,\n",
       "       0.1274734 , 0.08674106, 0.41150322, 0.02357766, 0.02606846,\n",
       "       0.34440167, 0.02586926, 0.04584606, 0.09079685, 0.36924318,\n",
       "       0.21944844, 0.25563296, 0.01606768, 0.12106667, 0.17048745,\n",
       "       0.25872718, 0.03172363, 0.18409794, 0.62012299, 0.06826362,\n",
       "       0.6571554 , 0.11798733, 0.03498405, 0.09772335, 0.37399982,\n",
       "       0.86411258, 0.14081707, 0.12874307, 0.11547982, 0.02617052,\n",
       "       0.13430182, 1.90516884, 0.66054299, 0.06984693, 0.08407587,\n",
       "       0.19539497, 0.08256796, 0.08048051, 0.32515918, 0.01629181,\n",
       "       0.33872109, 0.2410276 , 0.07592299, 0.04566116, 0.0176438 ,\n",
       "       0.14187937, 0.52256553, 0.04292853, 0.12157057, 0.25161202,\n",
       "       0.09474945, 0.05986256, 0.07322671, 0.19779353, 0.30145255,\n",
       "       0.28279321, 0.25649098, 0.19012776, 0.26945587, 0.13468184,\n",
       "       0.22127256, 0.21785318, 0.23708036, 0.20145607, 0.14675222,\n",
       "       0.10064966, 0.18596864, 0.05850243, 0.03974129, 0.21097346,\n",
       "       0.21467597, 0.04866663, 0.28806013, 0.82828884, 0.1829762 ,\n",
       "       0.02553669, 0.01182525, 0.18258381, 0.23642968, 0.09951284,\n",
       "       0.30174078, 0.03485194, 0.13526089, 0.25762841, 0.06971321,\n",
       "       0.39583941, 0.03867116, 0.08517574, 0.46891247, 0.46968451,\n",
       "       0.07000639, 0.0569062 , 0.82221488, 0.06152179, 0.01556311,\n",
       "       0.28352743, 0.13109484, 0.47961439, 0.32007484, 0.1053482 ,\n",
       "       0.14059828, 0.23757136, 0.02744974, 0.13623998, 0.17786447,\n",
       "       0.18203783, 0.10472381, 0.10799511, 0.17957822, 0.17679276,\n",
       "       0.01551556, 0.43159469, 0.11346632, 0.09510552, 0.13251647,\n",
       "       0.0806724 , 0.15733413, 0.10995847, 0.15659862, 0.34036076,\n",
       "       0.05739983, 0.02976427, 0.09170523, 0.11466393, 0.16278163,\n",
       "       0.1749193 , 0.04912611, 0.00938932, 0.08514247, 0.12261543,\n",
       "       0.02463405, 0.06415019, 1.01118947, 0.4887799 , 0.07571227,\n",
       "       0.47486273, 0.08899445, 0.18725929, 1.14485487, 0.11212142,\n",
       "       0.07061226, 0.06312312, 0.31105828, 0.44191118, 0.08532479,\n",
       "       0.45226997, 0.76857602, 0.17922415, 0.14744143, 0.20613516,\n",
       "       0.58628015, 0.2832707 , 0.06547928, 0.3961325 , 0.08767564,\n",
       "       0.28578338, 0.05149355, 0.54639538, 0.14313981, 0.25335953,\n",
       "       0.0270215 , 0.22102821, 1.47541642, 0.27617045, 0.10215891,\n",
       "       0.77211335, 0.37386654, 0.0680413 , 0.05176099, 0.19768563,\n",
       "       1.36857403, 0.15248288, 0.28342989, 2.        , 0.55867934,\n",
       "       0.03312665, 0.28897272, 0.04485737, 0.103794  , 0.04618899,\n",
       "       0.06176817, 0.32450847, 0.32007484, 0.41224111, 0.43733671,\n",
       "       0.0138828 , 0.09899882, 0.17475437, 0.04076511, 0.16855334,\n",
       "       0.13025943, 0.22884732, 0.09374015, 0.06451678, 0.10394399,\n",
       "       0.1170922 , 0.05546096, 0.09018707, 0.0469688 , 0.04461189,\n",
       "       0.16486902, 0.02080392, 0.91815823, 1.20785777, 0.30676162,\n",
       "       0.08998359, 0.29003038, 0.03332763, 0.04602192, 0.34330835,\n",
       "       0.11235957, 0.083589  , 0.09300761, 0.27029264, 0.40850284,\n",
       "       0.19431029, 0.60963334, 0.20927667, 0.09373991, 0.06019575,\n",
       "       0.14677263, 0.51547661, 0.04238318, 0.07944566, 0.12954815,\n",
       "       0.01036662, 0.13047734, 0.05602273, 0.5764465 , 0.71916714,\n",
       "       0.28206843, 0.1254767 , 0.20083119, 0.16654019, 0.11292018,\n",
       "       0.18473297, 0.08838284, 0.13198283, 0.2360279 , 0.0204892 ,\n",
       "       0.69785534, 0.06176817, 0.10174832, 0.1086198 , 0.13606078,\n",
       "       0.45560024, 0.09272372, 0.15302396, 0.61366394, 0.79960014,\n",
       "       0.73304964, 1.40474731, 0.21880288, 0.05933945, 0.0953795 ,\n",
       "       0.22815317, 0.13291315, 0.03818108, 0.65475522, 0.62154484,\n",
       "       0.09616613, 0.14576206, 0.17641834, 1.09467998, 0.31819885,\n",
       "       0.18810511, 0.56915811, 0.09912358, 0.07791021, 0.49128856,\n",
       "       0.35557444, 0.06574868, 0.27794013, 0.16821919, 0.20486872,\n",
       "       1.5210599 , 0.28803512, 0.06479448, 0.0330983 , 0.31439716,\n",
       "       0.12809175, 0.03835732, 0.05544705, 0.11949137, 0.04187317,\n",
       "       0.2219838 , 0.15237486, 0.27825143, 0.25033149, 0.35327016,\n",
       "       0.27460948, 0.0338972 , 0.06931459, 0.09789673, 0.17988842,\n",
       "       0.01419759, 0.03959201, 0.18006002, 0.02748224, 0.071538  ,\n",
       "       0.08344498, 0.26985694, 0.54769937, 0.11258188, 0.03560534,\n",
       "       0.0373882 , 0.8996209 , 0.16659197, 0.10220917, 0.83336315,\n",
       "       0.174111  , 0.00461515, 0.08255301, 0.11477165, 0.0916964 ,\n",
       "       0.08844313, 0.2011754 , 1.20138551, 0.10292349, 0.11486757,\n",
       "       0.16851558, 0.01399031, 0.03111681, 0.12765759, 0.25146812,\n",
       "       0.12443253, 0.92081774, 0.65985916, 0.01771067, 0.49317439,\n",
       "       0.16061945, 0.22237326, 0.01399523, 0.09059166, 0.07319929,\n",
       "       0.04607047, 0.10040002, 0.28779203, 1.22341675, 0.39529536,\n",
       "       0.10327453, 0.11074809, 0.62432358, 0.16299142, 0.20246766,\n",
       "       0.02746786, 0.07825012, 0.02869783, 0.32763567, 0.73864479,\n",
       "       0.29060621, 0.06978659, 0.30462658, 0.07990803, 0.03163328,\n",
       "       0.03915296, 0.09291676, 1.12609543, 0.02025385, 0.24483341,\n",
       "       0.12511483, 0.16247852, 0.34217284, 0.25237908, 0.15200641,\n",
       "       0.20288352, 0.16419819, 0.25502786, 0.1158354 , 0.09953181,\n",
       "       0.02830338, 0.10282722, 0.11512341, 0.03073233, 0.12621074,\n",
       "       0.05181286, 0.02228957, 1.257538  , 0.24369437, 0.11252832,\n",
       "       0.95534095, 0.09436675, 0.07020543, 0.56275865, 0.11227686,\n",
       "       0.21900553, 0.39052913, 0.30079856, 0.01513161, 0.06607045,\n",
       "       0.10294485, 0.29195641, 0.26457797, 0.09247614, 0.14303479,\n",
       "       0.08878253, 0.03548007, 0.06451678, 0.08167844, 0.53368772,\n",
       "       0.21648485, 0.46671497, 0.0809618 , 0.59733809, 0.22992991,\n",
       "       0.22638196, 0.25960614, 0.29627708])"
      ]
     },
     "execution_count": 80,
     "metadata": {},
     "output_type": "execute_result"
    }
   ],
   "source": [
    "ps.weights.lag_spatial(w,snapshot.demand.values)"
   ]
  }
 ],
 "metadata": {
  "kernelspec": {
   "display_name": "Python 3",
   "language": "python",
   "name": "python3"
  },
  "language_info": {
   "codemirror_mode": {
    "name": "ipython",
    "version": 3
   },
   "file_extension": ".py",
   "mimetype": "text/x-python",
   "name": "python",
   "nbconvert_exporter": "python",
   "pygments_lexer": "ipython3",
   "version": "3.7.3"
  }
 },
 "nbformat": 4,
 "nbformat_minor": 2
}
