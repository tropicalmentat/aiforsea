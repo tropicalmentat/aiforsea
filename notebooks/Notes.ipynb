{
 "cells": [
  {
   "cell_type": "markdown",
   "metadata": {},
   "source": [
    "# References"
   ]
  },
  {
   "cell_type": "markdown",
   "metadata": {},
   "source": [
    "### Academic resources\n",
    "- [Real-time spatiotemporal forecasting of uber rider population](https://medium.com/@austinmwhaley/real-time-spatiotemporal-forecasting-of-the-uber-rider-population-in-nyc-8bf258ee2330)\n",
    "- [Spatiotemporal prediction of ambulance demand](https://www.groundai.com/project/spatiotemporal-prediction-of-ambulance-demand-using-gaussian-process-regression/)\n",
    "- [Predicting short-term Uber demand using spatio-temporal modelling](https://www.researchgate.net/publication/321604577_Predicting_Short-Term_Uber_Demand_Using_Spatio-Temporal_Modeling_A_New_York_City_Case_Study)\n",
    "- [UCAL Center for Geospatial Sciences](https://spatial.ucr.edu/projects.html#spatialstats)\n",
    "\n",
    "### Tutorials\n",
    "- [The random forest algorithm](https://towardsdatascience.com/the-random-forest-algorithm-d457d499ffcd)\n",
    "- [End-to-end time series analysis](https://www.kdnuggets.com/2018/09/end-to-end-project-time-series-analysis-forecasting-python.html)\n",
    "- [Time series forecasting methods in python](https://machinelearningmastery.com/time-series-forecasting-methods-in-python-cheat-sheet/)\n",
    "- [Spatial viz and analysis in python](https://towardsdatascience.com/data-101s-spatial-visualizations-and-analysis-in-python-with-folium-39730da2adf)\n",
    "- [Getting started with Folium](https://alysivji.github.io/getting-started-with-folium.html)\n",
    "\n",
    "### Industry References\n",
    "- [Forecasting at Uber Intro](https://eng.uber.com/forecasting-introduction/)\n",
    "- [Uber Omphalos](https://eng.uber.com/omphalos/)\n",
    "\n",
    "### Spatiotemporal autoregression\n",
    "- [StackOverflow question: Python spatial autoregressive model](https://stackoverflow.com/questions/53640799/python-spatial-autoregressive-model)\n",
    "- [VAR vs STAR for space-time autoregression in Python](https://stats.stackexchange.com/questions/47202/var-vs-star-for-space-time-autoregression-in-python)\n",
    "- [Autoregression models time-series forecasting python](https://machinelearningmastery.com/autoregression-models-time-series-forecasting-python/)"
   ]
  },
  {
   "cell_type": "markdown",
   "metadata": {},
   "source": [
    "# Findings\n",
    "- Locations with high demand (above 70th percentile) exhibit remain almost constant during the early morning and day time. "
   ]
  },
  {
   "cell_type": "markdown",
   "metadata": {},
   "source": [
    "# TODO\n",
    "\n",
    "## 5/31: \n",
    "\n",
    "- [] Explore different models for different quantiles\n",
    "- [] Check for autoregression in timeseries\n"
   ]
  }
 ],
 "metadata": {
  "kernelspec": {
   "display_name": "Python 3",
   "language": "python",
   "name": "python3"
  },
  "language_info": {
   "codemirror_mode": {
    "name": "ipython",
    "version": 3
   },
   "file_extension": ".py",
   "mimetype": "text/x-python",
   "name": "python",
   "nbconvert_exporter": "python",
   "pygments_lexer": "ipython3",
   "version": "3.7.3"
  }
 },
 "nbformat": 4,
 "nbformat_minor": 2
}
