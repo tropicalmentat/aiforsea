{
 "cells": [
  {
   "cell_type": "markdown",
   "metadata": {},
   "source": [
    "# References"
   ]
  },
  {
   "cell_type": "markdown",
   "metadata": {},
   "source": [
    "- [The random forest algorithm](https://towardsdatascience.com/the-random-forest-algorithm-d457d499ffcd)\n",
    "- [End-to-end time series analysis](https://www.kdnuggets.com/2018/09/end-to-end-project-time-series-analysis-forecasting-python.html)\n",
    "- [Time series forecasting methods in python](https://machinelearningmastery.com/time-series-forecasting-methods-in-python-cheat-sheet/)\n",
    "- [Real-time spatiotemporal forecasting of uber rider population](https://medium.com/@austinmwhaley/real-time-spatiotemporal-forecasting-of-the-uber-rider-population-in-nyc-8bf258ee2330)"
   ]
  }
 ],
 "metadata": {
  "kernelspec": {
   "display_name": "Python 3",
   "language": "python",
   "name": "python3"
  },
  "language_info": {
   "codemirror_mode": {
    "name": "ipython",
    "version": 3
   },
   "file_extension": ".py",
   "mimetype": "text/x-python",
   "name": "python",
   "nbconvert_exporter": "python",
   "pygments_lexer": "ipython3",
   "version": "3.7.3"
  }
 },
 "nbformat": 4,
 "nbformat_minor": 2
}
