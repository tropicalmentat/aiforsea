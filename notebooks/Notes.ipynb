{
 "cells": [
  {
   "cell_type": "markdown",
   "metadata": {},
   "source": [
    "# References"
   ]
  },
  {
   "cell_type": "markdown",
   "metadata": {},
   "source": [
    "### Academic resources\n",
    "- [Real-time spatiotemporal forecasting of uber rider population](https://medium.com/@austinmwhaley/real-time-spatiotemporal-forecasting-of-the-uber-rider-population-in-nyc-8bf258ee2330)\n",
    "- [Spatiotemporal prediction of ambulance demand](https://www.groundai.com/project/spatiotemporal-prediction-of-ambulance-demand-using-gaussian-process-regression/)\n",
    "- [Predicting short-term Uber demand using spatio-temporal modelling](https://www.researchgate.net/publication/321604577_Predicting_Short-Term_Uber_Demand_Using_Spatio-Temporal_Modeling_A_New_York_City_Case_Study)\n",
    "- [UCAL Center for Geospatial Sciences](https://spatial.ucr.edu/projects.html#spatialstats)\n",
    "\n",
    "### Tutorials\n",
    "- [The random forest algorithm](https://towardsdatascience.com/the-random-forest-algorithm-d457d499ffcd)\n",
    "- [End-to-end time series analysis](https://www.kdnuggets.com/2018/09/end-to-end-project-time-series-analysis-forecasting-python.html)\n",
    "- [Time series forecasting methods in python](https://machinelearningmastery.com/time-series-forecasting-methods-in-python-cheat-sheet/)\n",
    "- [Spatial viz and analysis in python](https://towardsdatascience.com/data-101s-spatial-visualizations-and-analysis-in-python-with-folium-39730da2adf)\n",
    "- [Getting started with Folium](https://alysivji.github.io/getting-started-with-folium.html)\n",
    "- [Timeseries forecasting methods](https://www.analyticsvidhya.com/blog/2018/02/time-series-forecasting-methods/)\n",
    "- [Timeseries prediction lstm recurrent neural networks](https://machinelearningmastery.com/time-series-prediction-lstm-recurrent-neural-networks-python-keras/)\n",
    "\n",
    "### Industry References\n",
    "- [Forecasting at Uber Intro](https://eng.uber.com/forecasting-introduction/)\n",
    "- [Uber Omphalos](https://eng.uber.com/omphalos/)\n",
    "\n",
    "### Spatiotemporal autoregression\n",
    "- [StackOverflow question: Python spatial autoregressive model](https://stackoverflow.com/questions/53640799/python-spatial-autoregressive-model)\n",
    "- [VAR vs STAR for space-time autoregression in Python](https://stats.stackexchange.com/questions/47202/var-vs-star-for-space-time-autoregression-in-python)\n",
    "- [Autoregression models time-series forecasting python](https://machinelearningmastery.com/autoregression-models-time-series-forecasting-python/)\n",
    "- [Model for spatiotemporal and discrete](https://stats.stackexchange.com/questions/407520/model-for-spatiotemporal-and-discrete-variables)\n",
    "- [Spatiotemporal modelling...using Generalized STAR models](https://arxiv.org/ftp/arxiv/papers/1711/1711.10090.pdf)\n",
    "- [Development of generalized space time autoregressive integrated with...](https://www.researchgate.net/publication/315825393_Development_of_generalized_space_time_autoregressive_integrated_with_ARCH_error_GSTARI_-_ARCH_model_based_on_consumer_price_index_phenomenon_at_several_cities_in_North_Sumatera_province_Development_of)\n",
    "\n",
    "### Spatial autoregression\n",
    "- [A brief into to spatial regression](http://www.unsiap.or.jp/e-learning/el_material/Agri/1507_Literacy_KOR/M3_4_Country_Presentation_Korea.pdf)\n",
    "- [Basic spatial regression analysis](http://desktop.arcgis.com/en/arcmap/latest/tools/spatial-statistics-toolbox/regression-analysis-basics.htm)\n",
    "- [Spatial weights basic concepts](https://geodacenter.github.io/workbook/4a_contig_weights/lab4a.html#spatial-weights---basic-concepts)\n",
    "- [Spatial weights tutorial](http://darribas.org/gds15/content/labs/lab_05.html)\n",
    "\n",
    "### Python libraries\n",
    "- [pySTARMA](https://github.com/MAGDa-BeuthHS/pySTARMA)\n",
    "- [libpysal](https://stackoverflow.com/questions/54092382/python-how-to-compute-the-spatial-autocorrelation-of-indicators-from-a-shapefil)"
   ]
  },
  {
   "cell_type": "markdown",
   "metadata": {},
   "source": [
    "# Findings\n",
    "- Locations with high demand (above 70th percentile) exhibit remain almost constant during the early morning and day time. "
   ]
  },
  {
   "cell_type": "markdown",
   "metadata": {},
   "source": [
    "# TODO\n",
    "\n",
    "## 5/31: \n",
    "- [x] Check for autoregression in timeseries\n",
    "\n",
    "## 6/11\n",
    "- [x] Read up on spatial weights matrix\n",
    "- [] Convert pandas dataframe to pysal datastructure\n"
   ]
  },
  {
   "cell_type": "markdown",
   "metadata": {},
   "source": [
    "# Steps for Spatial-Temporal Autoregression\n",
    "\n",
    "Based on the paper: [Predicting short-term Uber demand using Spatio-Temporal Modelling](https://arxiv.org/ftp/arxiv/papers/1712/1712.02001.pdf)\n",
    "\n",
    "1. Build spatial weight matrices\n",
    "    - Points are already aggregated demand. \n",
    "    - Use steps in [study](https://www.researchgate.net/publication/321604577_Predicting_Short-Term_Uber_Demand_Using_Spatio-Temporal_Modeling_A_New_York_City_Case_Study) outlined in **weights matrices** section.\n",
    "    - Need to integrate pandas DF to pysal datastructure. Tutorial [here](http://darribas.org/gds_scipy16/ipynb_md/01_data_processing.html) in the **Moving in and out of the dataframe** section."
   ]
  }
 ],
 "metadata": {
  "kernelspec": {
   "display_name": "Python 3",
   "language": "python",
   "name": "python3"
  },
  "language_info": {
   "codemirror_mode": {
    "name": "ipython",
    "version": 3
   },
   "file_extension": ".py",
   "mimetype": "text/x-python",
   "name": "python",
   "nbconvert_exporter": "python",
   "pygments_lexer": "ipython3",
   "version": "3.7.3"
  }
 },
 "nbformat": 4,
 "nbformat_minor": 2
}
